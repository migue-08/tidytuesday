{
 "cells": [
  {
   "cell_type": "markdown",
   "id": "d60b1712-5c24-4593-83a2-9dac0ee7afeb",
   "metadata": {},
   "source": [
    "# Water Quality at Sydney Beaches"
   ]
  },
  {
   "cell_type": "markdown",
   "id": "9ada1686-e6a6-454a-b013-b2c2a614b909",
   "metadata": {},
   "source": [
    "Let's load some libraries:"
   ]
  },
  {
   "cell_type": "code",
   "execution_count": 1,
   "id": "0ba5f9f6-dd78-44b6-b204-933ea0d4d9e6",
   "metadata": {},
   "outputs": [],
   "source": [
    "import numpy as np\n",
    "import pandas as pd\n",
    "import matplotlib.pyplot as plt\n",
    "import seaborn as sns\n",
    "plt.rc(\"figure\", figsize=(10, 6))"
   ]
  },
  {
   "cell_type": "markdown",
   "id": "1fe69be4-590a-4fb4-9c29-edf07bff6158",
   "metadata": {},
   "source": [
    "## Load data"
   ]
  },
  {
   "cell_type": "code",
   "execution_count": 2,
   "id": "b7f1ccd3-0c3f-4948-a68f-2a386ea8af7e",
   "metadata": {},
   "outputs": [
    {
     "name": "stdout",
     "output_type": "stream",
     "text": [
      "<class 'pandas.core.frame.DataFrame'>\n",
      "RangeIndex: 123530 entries, 0 to 123529\n",
      "Data columns (total 10 columns):\n",
      " #   Column                 Non-Null Count   Dtype  \n",
      "---  ------                 --------------   -----  \n",
      " 0   region                 123530 non-null  object \n",
      " 1   council                123530 non-null  object \n",
      " 2   swim_site              123530 non-null  object \n",
      " 3   date                   123530 non-null  object \n",
      " 4   time                   112338 non-null  object \n",
      " 5   enterococci_cfu_100ml  123223 non-null  float64\n",
      " 6   water_temperature_c    48491 non-null   float64\n",
      " 7   conductivity_ms_cm     44994 non-null   float64\n",
      " 8   latitude               123530 non-null  float64\n",
      " 9   longitude              123530 non-null  float64\n",
      "dtypes: float64(5), object(5)\n",
      "memory usage: 9.4+ MB\n"
     ]
    }
   ],
   "source": [
    "# Let's load the data\n",
    "\n",
    "water_quality = pd.read_csv('https://raw.githubusercontent.com/rfordatascience/tidytuesday/main/data/2025/2025-05-20/water_quality.csv')\n",
    "weather = pd.read_csv('https://raw.githubusercontent.com/rfordatascience/tidytuesday/main/data/2025/2025-05-20/weather.csv')\n",
    "water_quality.info()"
   ]
  },
  {
   "cell_type": "code",
   "execution_count": 3,
   "id": "98a6dcbe-a9da-4500-9bb8-0bf4aad1902c",
   "metadata": {},
   "outputs": [
    {
     "name": "stdout",
     "output_type": "stream",
     "text": [
      "<class 'pandas.core.frame.DataFrame'>\n",
      "RangeIndex: 12538 entries, 0 to 12537\n",
      "Data columns (total 6 columns):\n",
      " #   Column            Non-Null Count  Dtype  \n",
      "---  ------            --------------  -----  \n",
      " 0   date              12538 non-null  object \n",
      " 1   max_temp_C        12538 non-null  float64\n",
      " 2   min_temp_C        12538 non-null  float64\n",
      " 3   precipitation_mm  12538 non-null  float64\n",
      " 4   latitude          12538 non-null  float64\n",
      " 5   longitude         12538 non-null  float64\n",
      "dtypes: float64(5), object(1)\n",
      "memory usage: 587.8+ KB\n"
     ]
    }
   ],
   "source": [
    "weather.info()"
   ]
  },
  {
   "cell_type": "markdown",
   "id": "0b6549f7-a98b-4c10-b9d8-82006e5bb38f",
   "metadata": {},
   "source": [
    "As you can see, neither the DataFrames's 'dates' nor the 'time' column are expressed in the right format. Let's fix this:"
   ]
  },
  {
   "cell_type": "code",
   "execution_count": 4,
   "id": "674a7a7c-7198-4ad9-978c-65c1b90a2368",
   "metadata": {},
   "outputs": [],
   "source": [
    "# Let's create a function for 'dtype' transformation in 'water_quality' DataFrame:\n",
    "\n",
    "def set_dtypes(dataf):\n",
    "    \"\"\"\n",
    "    This function transform date to 'pd.datetime', time to 'pd.timedelta' then combine,\n",
    "    and finally set the result as an index\n",
    "    \"\"\"\n",
    "    return (dataf\n",
    "        .assign(date = lambda d: pd.to_datetime(d['date'], format='%Y-%m-%d'))\n",
    "        .assign(time = lambda d: pd.to_timedelta(d['time']))\n",
    "        .assign(datetime = lambda d: pd.to_datetime(d['date'] + d['time']))\n",
    "        .set_index('datetime'))"
   ]
  },
  {
   "cell_type": "code",
   "execution_count": 5,
   "id": "76f11018-4537-4d6d-9055-a56d9e2534cb",
   "metadata": {},
   "outputs": [
    {
     "name": "stdout",
     "output_type": "stream",
     "text": [
      "<class 'pandas.core.frame.DataFrame'>\n",
      "DatetimeIndex: 123530 entries, 2025-04-28 11:00:00 to NaT\n",
      "Data columns (total 10 columns):\n",
      " #   Column                 Non-Null Count   Dtype          \n",
      "---  ------                 --------------   -----          \n",
      " 0   region                 123530 non-null  object         \n",
      " 1   council                123530 non-null  object         \n",
      " 2   swim_site              123530 non-null  object         \n",
      " 3   date                   123530 non-null  datetime64[ns] \n",
      " 4   time                   112338 non-null  timedelta64[ns]\n",
      " 5   enterococci_cfu_100ml  123223 non-null  float64        \n",
      " 6   water_temperature_c    48491 non-null   float64        \n",
      " 7   conductivity_ms_cm     44994 non-null   float64        \n",
      " 8   latitude               123530 non-null  float64        \n",
      " 9   longitude              123530 non-null  float64        \n",
      "dtypes: datetime64[ns](1), float64(5), object(3), timedelta64[ns](1)\n",
      "memory usage: 10.4+ MB\n"
     ]
    }
   ],
   "source": [
    "water_quality = water_quality.pipe(set_dtypes)\n",
    "water_quality.info()"
   ]
  },
  {
   "cell_type": "code",
   "execution_count": 6,
   "id": "d23151a1-97ec-496b-8e15-b8640da6e7bb",
   "metadata": {},
   "outputs": [
    {
     "name": "stdout",
     "output_type": "stream",
     "text": [
      "<class 'pandas.core.frame.DataFrame'>\n",
      "RangeIndex: 12538 entries, 0 to 12537\n",
      "Data columns (total 6 columns):\n",
      " #   Column            Non-Null Count  Dtype         \n",
      "---  ------            --------------  -----         \n",
      " 0   date              12538 non-null  datetime64[ns]\n",
      " 1   max_temp_C        12538 non-null  float64       \n",
      " 2   min_temp_C        12538 non-null  float64       \n",
      " 3   precipitation_mm  12538 non-null  float64       \n",
      " 4   latitude          12538 non-null  float64       \n",
      " 5   longitude         12538 non-null  float64       \n",
      "dtypes: datetime64[ns](1), float64(5)\n",
      "memory usage: 587.8 KB\n"
     ]
    }
   ],
   "source": [
    "# Let's transform date to datetime object in 'weather' DataFrame:\n",
    "\n",
    "weather['date'] = pd.to_datetime(weather['date'], format='%Y-%m-%d')\n",
    "weather.info()"
   ]
  },
  {
   "cell_type": "code",
   "execution_count": 7,
   "id": "fa108db1-3271-4833-aae9-8d6f8331949e",
   "metadata": {},
   "outputs": [
    {
     "data": {
      "text/html": [
       "<div>\n",
       "<style scoped>\n",
       "    .dataframe tbody tr th:only-of-type {\n",
       "        vertical-align: middle;\n",
       "    }\n",
       "\n",
       "    .dataframe tbody tr th {\n",
       "        vertical-align: top;\n",
       "    }\n",
       "\n",
       "    .dataframe thead th {\n",
       "        text-align: right;\n",
       "    }\n",
       "</style>\n",
       "<table border=\"1\" class=\"dataframe\">\n",
       "  <thead>\n",
       "    <tr style=\"text-align: right;\">\n",
       "      <th></th>\n",
       "      <th>region</th>\n",
       "      <th>council</th>\n",
       "      <th>swim_site</th>\n",
       "      <th>date</th>\n",
       "      <th>time</th>\n",
       "      <th>enterococci_cfu_100ml</th>\n",
       "      <th>water_temperature_c</th>\n",
       "      <th>conductivity_ms_cm</th>\n",
       "      <th>latitude</th>\n",
       "      <th>longitude</th>\n",
       "    </tr>\n",
       "    <tr>\n",
       "      <th>datetime</th>\n",
       "      <th></th>\n",
       "      <th></th>\n",
       "      <th></th>\n",
       "      <th></th>\n",
       "      <th></th>\n",
       "      <th></th>\n",
       "      <th></th>\n",
       "      <th></th>\n",
       "      <th></th>\n",
       "      <th></th>\n",
       "    </tr>\n",
       "  </thead>\n",
       "  <tbody>\n",
       "    <tr>\n",
       "      <th>1994-08-23 07:00:00</th>\n",
       "      <td>Northern Sydney</td>\n",
       "      <td>Northern Beaches Council</td>\n",
       "      <td>Palm Beach</td>\n",
       "      <td>1994-08-23</td>\n",
       "      <td>0 days 07:00:00</td>\n",
       "      <td>1.0</td>\n",
       "      <td>NaN</td>\n",
       "      <td>NaN</td>\n",
       "      <td>-33.598779</td>\n",
       "      <td>151.325824</td>\n",
       "    </tr>\n",
       "    <tr>\n",
       "      <th>1994-08-27 06:00:00</th>\n",
       "      <td>Sydney City</td>\n",
       "      <td>Randwick City Council</td>\n",
       "      <td>Little Bay Beach</td>\n",
       "      <td>1994-08-27</td>\n",
       "      <td>0 days 06:00:00</td>\n",
       "      <td>20.0</td>\n",
       "      <td>NaN</td>\n",
       "      <td>NaN</td>\n",
       "      <td>-33.979882</td>\n",
       "      <td>151.251417</td>\n",
       "    </tr>\n",
       "    <tr>\n",
       "      <th>1994-08-27 06:10:00</th>\n",
       "      <td>Sydney City</td>\n",
       "      <td>Randwick City Council</td>\n",
       "      <td>Malabar Beach</td>\n",
       "      <td>1994-08-27</td>\n",
       "      <td>0 days 06:10:00</td>\n",
       "      <td>9.0</td>\n",
       "      <td>NaN</td>\n",
       "      <td>NaN</td>\n",
       "      <td>-33.964360</td>\n",
       "      <td>151.252247</td>\n",
       "    </tr>\n",
       "    <tr>\n",
       "      <th>1994-08-27 06:20:00</th>\n",
       "      <td>Sydney City</td>\n",
       "      <td>Randwick City Council</td>\n",
       "      <td>Maroubra Beach</td>\n",
       "      <td>1994-08-27</td>\n",
       "      <td>0 days 06:20:00</td>\n",
       "      <td>9.0</td>\n",
       "      <td>NaN</td>\n",
       "      <td>NaN</td>\n",
       "      <td>-33.948896</td>\n",
       "      <td>151.257459</td>\n",
       "    </tr>\n",
       "    <tr>\n",
       "      <th>1994-08-27 06:30:00</th>\n",
       "      <td>Sydney City</td>\n",
       "      <td>Randwick City Council</td>\n",
       "      <td>Coogee Beach</td>\n",
       "      <td>1994-08-27</td>\n",
       "      <td>0 days 06:30:00</td>\n",
       "      <td>3.0</td>\n",
       "      <td>NaN</td>\n",
       "      <td>NaN</td>\n",
       "      <td>-33.920760</td>\n",
       "      <td>151.258170</td>\n",
       "    </tr>\n",
       "  </tbody>\n",
       "</table>\n",
       "</div>"
      ],
      "text/plain": [
       "                              region                   council  \\\n",
       "datetime                                                         \n",
       "1994-08-23 07:00:00  Northern Sydney  Northern Beaches Council   \n",
       "1994-08-27 06:00:00      Sydney City     Randwick City Council   \n",
       "1994-08-27 06:10:00      Sydney City     Randwick City Council   \n",
       "1994-08-27 06:20:00      Sydney City     Randwick City Council   \n",
       "1994-08-27 06:30:00      Sydney City     Randwick City Council   \n",
       "\n",
       "                            swim_site       date            time  \\\n",
       "datetime                                                           \n",
       "1994-08-23 07:00:00        Palm Beach 1994-08-23 0 days 07:00:00   \n",
       "1994-08-27 06:00:00  Little Bay Beach 1994-08-27 0 days 06:00:00   \n",
       "1994-08-27 06:10:00     Malabar Beach 1994-08-27 0 days 06:10:00   \n",
       "1994-08-27 06:20:00    Maroubra Beach 1994-08-27 0 days 06:20:00   \n",
       "1994-08-27 06:30:00      Coogee Beach 1994-08-27 0 days 06:30:00   \n",
       "\n",
       "                     enterococci_cfu_100ml  water_temperature_c  \\\n",
       "datetime                                                          \n",
       "1994-08-23 07:00:00                    1.0                  NaN   \n",
       "1994-08-27 06:00:00                   20.0                  NaN   \n",
       "1994-08-27 06:10:00                    9.0                  NaN   \n",
       "1994-08-27 06:20:00                    9.0                  NaN   \n",
       "1994-08-27 06:30:00                    3.0                  NaN   \n",
       "\n",
       "                     conductivity_ms_cm   latitude   longitude  \n",
       "datetime                                                        \n",
       "1994-08-23 07:00:00                 NaN -33.598779  151.325824  \n",
       "1994-08-27 06:00:00                 NaN -33.979882  151.251417  \n",
       "1994-08-27 06:10:00                 NaN -33.964360  151.252247  \n",
       "1994-08-27 06:20:00                 NaN -33.948896  151.257459  \n",
       "1994-08-27 06:30:00                 NaN -33.920760  151.258170  "
      ]
     },
     "execution_count": 7,
     "metadata": {},
     "output_type": "execute_result"
    }
   ],
   "source": [
    "water_quality.sort_index().head()"
   ]
  },
  {
   "cell_type": "code",
   "execution_count": 8,
   "id": "0956f919-9ee7-4574-b85a-f672f1f2a918",
   "metadata": {},
   "outputs": [
    {
     "data": {
      "text/html": [
       "<div>\n",
       "<style scoped>\n",
       "    .dataframe tbody tr th:only-of-type {\n",
       "        vertical-align: middle;\n",
       "    }\n",
       "\n",
       "    .dataframe tbody tr th {\n",
       "        vertical-align: top;\n",
       "    }\n",
       "\n",
       "    .dataframe thead th {\n",
       "        text-align: right;\n",
       "    }\n",
       "</style>\n",
       "<table border=\"1\" class=\"dataframe\">\n",
       "  <thead>\n",
       "    <tr style=\"text-align: right;\">\n",
       "      <th></th>\n",
       "      <th>date</th>\n",
       "      <th>max_temp_C</th>\n",
       "      <th>min_temp_C</th>\n",
       "      <th>precipitation_mm</th>\n",
       "      <th>latitude</th>\n",
       "      <th>longitude</th>\n",
       "    </tr>\n",
       "  </thead>\n",
       "  <tbody>\n",
       "    <tr>\n",
       "      <th>0</th>\n",
       "      <td>1991-01-01</td>\n",
       "      <td>29.3</td>\n",
       "      <td>22.1</td>\n",
       "      <td>2.4</td>\n",
       "      <td>-33.848858</td>\n",
       "      <td>151.19551</td>\n",
       "    </tr>\n",
       "    <tr>\n",
       "      <th>1</th>\n",
       "      <td>1991-01-02</td>\n",
       "      <td>27.5</td>\n",
       "      <td>22.4</td>\n",
       "      <td>0.0</td>\n",
       "      <td>-33.848858</td>\n",
       "      <td>151.19551</td>\n",
       "    </tr>\n",
       "    <tr>\n",
       "      <th>2</th>\n",
       "      <td>1991-01-03</td>\n",
       "      <td>28.2</td>\n",
       "      <td>21.1</td>\n",
       "      <td>0.0</td>\n",
       "      <td>-33.848858</td>\n",
       "      <td>151.19551</td>\n",
       "    </tr>\n",
       "    <tr>\n",
       "      <th>3</th>\n",
       "      <td>1991-01-04</td>\n",
       "      <td>30.8</td>\n",
       "      <td>23.7</td>\n",
       "      <td>0.0</td>\n",
       "      <td>-33.848858</td>\n",
       "      <td>151.19551</td>\n",
       "    </tr>\n",
       "    <tr>\n",
       "      <th>4</th>\n",
       "      <td>1991-01-05</td>\n",
       "      <td>30.4</td>\n",
       "      <td>19.5</td>\n",
       "      <td>12.2</td>\n",
       "      <td>-33.848858</td>\n",
       "      <td>151.19551</td>\n",
       "    </tr>\n",
       "  </tbody>\n",
       "</table>\n",
       "</div>"
      ],
      "text/plain": [
       "        date  max_temp_C  min_temp_C  precipitation_mm   latitude  longitude\n",
       "0 1991-01-01        29.3        22.1               2.4 -33.848858  151.19551\n",
       "1 1991-01-02        27.5        22.4               0.0 -33.848858  151.19551\n",
       "2 1991-01-03        28.2        21.1               0.0 -33.848858  151.19551\n",
       "3 1991-01-04        30.8        23.7               0.0 -33.848858  151.19551\n",
       "4 1991-01-05        30.4        19.5              12.2 -33.848858  151.19551"
      ]
     },
     "execution_count": 8,
     "metadata": {},
     "output_type": "execute_result"
    }
   ],
   "source": [
    "weather.head()"
   ]
  },
  {
   "cell_type": "code",
   "execution_count": 9,
   "id": "df29c86a-f97c-456a-af35-b5ef7925419b",
   "metadata": {},
   "outputs": [
    {
     "data": {
      "image/png": "[encoded data removed]",
      "text/plain": [
       "<Figure size 1000x600 with 1 Axes>"
      ]
     },
     "metadata": {},
     "output_type": "display_data"
    }
   ],
   "source": [
    "# Has the water quality declined over this period?\n",
    "\n",
    "quality = water_quality['enterococci_cfu_100ml'].resample('ME').mean()\n",
    "\n",
    "sns.set_style('whitegrid')\n",
    "sns.lineplot(quality)\n",
    "plt.title('Sydney Water Quality - Monthly frequency');"
   ]
  },
  {
   "cell_type": "markdown",
   "id": "97a5f319-de83-466e-aa63-171d4abbe907",
   "metadata": {},
   "source": [
    "Although the water quality deteriorated in the first period of 1998, on average, the water quality has been improving since then."
   ]
  },
  {
   "cell_type": "code",
   "execution_count": 10,
   "id": "e9ec8400-8105-41ef-8eaf-6f18fd6bfed0",
   "metadata": {},
   "outputs": [
    {
     "data": {
      "image/png": "[encoded data removed]",
      "text/plain": [
       "<Figure size 1000x600 with 1 Axes>"
      ]
     },
     "metadata": {},
     "output_type": "display_data"
    }
   ],
   "source": [
    "# How does raifall impact E-coli bacteria levels?\n",
    "\n",
    "df = pd.merge(left=water_quality, right=weather,\n",
    "              how='inner', on='date')\n",
    "\n",
    "sns.scatterplot(data=df,\n",
    "                x='precipitation_mm',\n",
    "                y='enterococci_cfu_100ml');"
   ]
  },
  {
   "cell_type": "code",
   "execution_count": 11,
   "id": "f720ed82-e555-4a82-beb9-61dbc7c79c1c",
   "metadata": {},
   "outputs": [
    {
     "data": {
      "text/html": [
       "<div>\n",
       "<style scoped>\n",
       "    .dataframe tbody tr th:only-of-type {\n",
       "        vertical-align: middle;\n",
       "    }\n",
       "\n",
       "    .dataframe tbody tr th {\n",
       "        vertical-align: top;\n",
       "    }\n",
       "\n",
       "    .dataframe thead th {\n",
       "        text-align: right;\n",
       "    }\n",
       "</style>\n",
       "<table border=\"1\" class=\"dataframe\">\n",
       "  <thead>\n",
       "    <tr style=\"text-align: right;\">\n",
       "      <th></th>\n",
       "      <th>enterococci_cfu_100ml</th>\n",
       "      <th>precipitation_mm</th>\n",
       "    </tr>\n",
       "  </thead>\n",
       "  <tbody>\n",
       "    <tr>\n",
       "      <th>enterococci_cfu_100ml</th>\n",
       "      <td>1.000000</td>\n",
       "      <td>0.025238</td>\n",
       "    </tr>\n",
       "    <tr>\n",
       "      <th>precipitation_mm</th>\n",
       "      <td>0.025238</td>\n",
       "      <td>1.000000</td>\n",
       "    </tr>\n",
       "  </tbody>\n",
       "</table>\n",
       "</div>"
      ],
      "text/plain": [
       "                       enterococci_cfu_100ml  precipitation_mm\n",
       "enterococci_cfu_100ml               1.000000          0.025238\n",
       "precipitation_mm                    0.025238          1.000000"
      ]
     },
     "execution_count": 11,
     "metadata": {},
     "output_type": "execute_result"
    }
   ],
   "source": [
    "(df\n",
    "    .iloc[:, [5, 12]]\n",
    "    .corr()\n",
    ")"
   ]
  },
  {
   "cell_type": "code",
   "execution_count": 12,
   "id": "3ce9f1af-db0c-4a34-b3fc-efe730d2111b",
   "metadata": {},
   "outputs": [
    {
     "data": {
      "text/plain": [
       "swim_site\n",
       "Yosemite Creek - Minnehaha Falls    0.408554\n",
       "Windsor Beach                       0.383511\n",
       "Penrith Beach                       0.316099\n",
       "Callan Park Seawall                 0.228239\n",
       "Newport Beach                       0.221870\n",
       "dtype: float64"
      ]
     },
     "execution_count": 12,
     "metadata": {},
     "output_type": "execute_result"
    }
   ],
   "source": [
    "# Are some swimming sites particularly prone to high bacteria levels following rain?\n",
    "\n",
    "(df\n",
    "    .iloc[:, [2, 5, 12]]\n",
    "    .dropna()\n",
    "    .groupby('swim_site')\n",
    "    .apply(lambda x: x['precipitation_mm'].corr(x['enterococci_cfu_100ml']),\n",
    "           include_groups=False)\n",
    "    .dropna()\n",
    "    .sort_values(ascending=False)\n",
    "    .head()\n",
    ")"
   ]
  },
  {
   "cell_type": "code",
   "execution_count": null,
   "id": "b256c60b-ab69-4c43-b968-fa8ab5666d1e",
   "metadata": {},
   "outputs": [],
   "source": []
  }
 ],
 "metadata": {
  "kernelspec": {
   "display_name": "Python 3 (ipykernel)",
   "language": "python",
   "name": "python3"
  },
  "language_info": {
   "codemirror_mode": {
    "name": "ipython",
    "version": 3
   },
   "file_extension": ".py",
   "mimetype": "text/x-python",
   "name": "python",
   "nbconvert_exporter": "python",
   "pygments_lexer": "ipython3",
   "version": "3.13.2"
  }
 },
 "nbformat": 4,
 "nbformat_minor": 5
}
